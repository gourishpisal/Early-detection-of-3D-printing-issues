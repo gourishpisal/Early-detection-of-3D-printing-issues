{
 "cells": [
  {
   "cell_type": "code",
   "execution_count": 1,
   "id": "360cc7dc-eeac-4f46-8d1e-fc15c429ebc4",
   "metadata": {},
   "outputs": [],
   "source": [
    "import numpy as np\n",
    "import pandas as pd\n",
    "import os\n",
    "import cv2\n",
    "from sklearn.model_selection import train_test_split\n",
    "\n",
    "# Load dataset\n",
    "data_df = pd.read_csv(\"train.csv\")\n",
    "\n",
    "# Split dataset into training, validation, and testing sets\n",
    "train_df, test_df = train_test_split(data_df, test_size=0.2, random_state=42, stratify=data_df['has_under_extrusion'])\n",
    "train_df, val_df = train_test_split(train_df, test_size=0.2, random_state=42, stratify=train_df['has_under_extrusion'])"
   ]
  },
  {
   "cell_type": "code",
   "execution_count": null,
   "id": "2cff292b-9808-4a95-916e-56c6b915323b",
   "metadata": {},
   "outputs": [],
   "source": [
    "\n",
    "\n"
   ]
  },
  {
   "cell_type": "code",
   "execution_count": 2,
   "id": "69648a74-0f26-44dc-b405-f33da26662c3",
   "metadata": {},
   "outputs": [
    {
     "name": "stdout",
     "output_type": "stream",
     "text": [
      "Found 106339 images belonging to 7 classes.\n"
     ]
    }
   ],
   "source": [
    "import numpy as np\n",
    "import cv2\n",
    "from tensorflow.keras.preprocessing.image import ImageDataGenerator\n",
    "\n",
    "IMG_SIZE = (224, 224)\n",
    "BATCH_SIZE = 32\n",
    "\n",
    "# create an instance of the ImageDataGenerator class\n",
    "data_gen = ImageDataGenerator(\n",
    "    preprocessing_function=lambda image: cv2.resize(cv2.cvtColor(image, cv2.COLOR_BGR2RGB), IMG_SIZE).astype(np.float32) / 255.0\n",
    ")\n",
    "\n",
    "# specify the path to the top-level directory containing all the subdirectories\n",
    "data_dir = 'Images'\n",
    "\n",
    "# use the flow_from_directory function to generate batches of preprocessed images\n",
    "image_generator = data_gen.flow_from_directory(\n",
    "    data_dir,\n",
    "    target_size=IMG_SIZE,\n",
    "    batch_size=BATCH_SIZE,\n",
    "    class_mode='categorical'\n",
    ")\n",
    "\n",
    "# loop over the batches of images\n",
    "for i, (batch_images, batch_labels) in enumerate(image_generator):\n",
    "    # perform some operation on the batch of images here\n",
    "    # for example, feed the batch to a neural network model\n",
    "    \n",
    "    # check if we have processed all the batches\n",
    "    if i == len(image_generator) - 1:\n",
    "        break\n"
   ]
  },
  {
   "cell_type": "code",
   "execution_count": 1,
   "id": "1bfb056e-4656-4055-b8d5-79f1ddf561b1",
   "metadata": {},
   "outputs": [
    {
     "ename": "NameError",
     "evalue": "name 'train_df' is not defined",
     "output_type": "error",
     "traceback": [
      "\u001b[1;31m---------------------------------------------------------------------------\u001b[0m",
      "\u001b[1;31mNameError\u001b[0m                                 Traceback (most recent call last)",
      "\u001b[1;32m~\\AppData\\Local\\Temp/ipykernel_11328/3327568718.py\u001b[0m in \u001b[0;36m<module>\u001b[1;34m\u001b[0m\n\u001b[1;32m----> 1\u001b[1;33m \u001b[0mtrain_df\u001b[0m\u001b[1;33m[\u001b[0m\u001b[1;34m\"has_under_extrusion\"\u001b[0m\u001b[1;33m]\u001b[0m \u001b[1;33m=\u001b[0m \u001b[0mtrain_df\u001b[0m\u001b[1;33m[\u001b[0m\u001b[1;34m\"has_under_extrusion\"\u001b[0m\u001b[1;33m]\u001b[0m\u001b[1;33m.\u001b[0m\u001b[0mastype\u001b[0m\u001b[1;33m(\u001b[0m\u001b[0mstr\u001b[0m\u001b[1;33m)\u001b[0m\u001b[1;33m\u001b[0m\u001b[1;33m\u001b[0m\u001b[0m\n\u001b[0m\u001b[0;32m      2\u001b[0m \u001b[0mval_df\u001b[0m\u001b[1;33m[\u001b[0m\u001b[1;34m\"has_under_extrusion\"\u001b[0m\u001b[1;33m]\u001b[0m \u001b[1;33m=\u001b[0m \u001b[0mval_df\u001b[0m\u001b[1;33m[\u001b[0m\u001b[1;34m\"has_under_extrusion\"\u001b[0m\u001b[1;33m]\u001b[0m\u001b[1;33m.\u001b[0m\u001b[0mastype\u001b[0m\u001b[1;33m(\u001b[0m\u001b[0mstr\u001b[0m\u001b[1;33m)\u001b[0m\u001b[1;33m\u001b[0m\u001b[1;33m\u001b[0m\u001b[0m\n\u001b[0;32m      3\u001b[0m \u001b[0mtest_df\u001b[0m\u001b[1;33m[\u001b[0m\u001b[1;34m\"has_under_extrusion\"\u001b[0m\u001b[1;33m]\u001b[0m \u001b[1;33m=\u001b[0m \u001b[0mtest_df\u001b[0m\u001b[1;33m[\u001b[0m\u001b[1;34m\"has_under_extrusion\"\u001b[0m\u001b[1;33m]\u001b[0m\u001b[1;33m.\u001b[0m\u001b[0mastype\u001b[0m\u001b[1;33m(\u001b[0m\u001b[0mstr\u001b[0m\u001b[1;33m)\u001b[0m\u001b[1;33m\u001b[0m\u001b[1;33m\u001b[0m\u001b[0m\n",
      "\u001b[1;31mNameError\u001b[0m: name 'train_df' is not defined"
     ]
    }
   ],
   "source": [
    "train_df[\"has_under_extrusion\"] = train_df[\"has_under_extrusion\"].astype(str)\n",
    "val_df[\"has_under_extrusion\"] = val_df[\"has_under_extrusion\"].astype(str)\n",
    "test_df[\"has_under_extrusion\"] = test_df[\"has_under_extrusion\"].astype(str)"
   ]
  },
  {
   "cell_type": "code",
   "execution_count": 10,
   "id": "2930cbe4-bb72-437f-98c5-b427f9a29660",
   "metadata": {},
   "outputs": [
    {
     "data": {
      "text/html": [
       "<div>\n",
       "<style scoped>\n",
       "    .dataframe tbody tr th:only-of-type {\n",
       "        vertical-align: middle;\n",
       "    }\n",
       "\n",
       "    .dataframe tbody tr th {\n",
       "        vertical-align: top;\n",
       "    }\n",
       "\n",
       "    .dataframe thead th {\n",
       "        text-align: right;\n",
       "    }\n",
       "</style>\n",
       "<table border=\"1\" class=\"dataframe\">\n",
       "  <thead>\n",
       "    <tr style=\"text-align: right;\">\n",
       "      <th></th>\n",
       "      <th>img_path</th>\n",
       "      <th>printer_id</th>\n",
       "      <th>print_id</th>\n",
       "      <th>has_under_extrusion</th>\n",
       "    </tr>\n",
       "  </thead>\n",
       "  <tbody>\n",
       "    <tr>\n",
       "      <th>117</th>\n",
       "      <td>101/1678589738/1678589962.082321.jpg</td>\n",
       "      <td>101</td>\n",
       "      <td>1678589738</td>\n",
       "      <td>1</td>\n",
       "    </tr>\n",
       "    <tr>\n",
       "      <th>27824</th>\n",
       "      <td>102/1678766920/1678767290.65399.jpg</td>\n",
       "      <td>102</td>\n",
       "      <td>1678766920</td>\n",
       "      <td>1</td>\n",
       "    </tr>\n",
       "    <tr>\n",
       "      <th>25771</th>\n",
       "      <td>102/1678816535/1678817797.548483.jpg</td>\n",
       "      <td>102</td>\n",
       "      <td>1678816535</td>\n",
       "      <td>1</td>\n",
       "    </tr>\n",
       "    <tr>\n",
       "      <th>26666</th>\n",
       "      <td>102/1678816535/1678818166.220234.jpg</td>\n",
       "      <td>102</td>\n",
       "      <td>1678816535</td>\n",
       "      <td>1</td>\n",
       "    </tr>\n",
       "    <tr>\n",
       "      <th>24899</th>\n",
       "      <td>102/1678816535/1678817437.772464.jpg</td>\n",
       "      <td>102</td>\n",
       "      <td>1678816535</td>\n",
       "      <td>1</td>\n",
       "    </tr>\n",
       "    <tr>\n",
       "      <th>...</th>\n",
       "      <td>...</td>\n",
       "      <td>...</td>\n",
       "      <td>...</td>\n",
       "      <td>...</td>\n",
       "    </tr>\n",
       "    <tr>\n",
       "      <th>37195</th>\n",
       "      <td>102/1678739903/1678740959.434142.jpg</td>\n",
       "      <td>102</td>\n",
       "      <td>1678739903</td>\n",
       "      <td>0</td>\n",
       "    </tr>\n",
       "    <tr>\n",
       "      <th>16285</th>\n",
       "      <td>101/1678341667/1678342560.798175.jpg</td>\n",
       "      <td>101</td>\n",
       "      <td>1678341667</td>\n",
       "      <td>0</td>\n",
       "    </tr>\n",
       "    <tr>\n",
       "      <th>11118</th>\n",
       "      <td>101/1678333984/1678334644.186267.jpg</td>\n",
       "      <td>101</td>\n",
       "      <td>1678333984</td>\n",
       "      <td>0</td>\n",
       "    </tr>\n",
       "    <tr>\n",
       "      <th>74511</th>\n",
       "      <td>022/1672773342/1672773636.389223.jpg</td>\n",
       "      <td>22</td>\n",
       "      <td>1672773342</td>\n",
       "      <td>0</td>\n",
       "    </tr>\n",
       "    <tr>\n",
       "      <th>52501</th>\n",
       "      <td>103/1678835470/1678835755.283162.jpg</td>\n",
       "      <td>103</td>\n",
       "      <td>1678835470</td>\n",
       "      <td>0</td>\n",
       "    </tr>\n",
       "  </tbody>\n",
       "</table>\n",
       "<p>51878 rows × 4 columns</p>\n",
       "</div>"
      ],
      "text/plain": [
       "                                   img_path  printer_id    print_id  \\\n",
       "117    101/1678589738/1678589962.082321.jpg         101  1678589738   \n",
       "27824   102/1678766920/1678767290.65399.jpg         102  1678766920   \n",
       "25771  102/1678816535/1678817797.548483.jpg         102  1678816535   \n",
       "26666  102/1678816535/1678818166.220234.jpg         102  1678816535   \n",
       "24899  102/1678816535/1678817437.772464.jpg         102  1678816535   \n",
       "...                                     ...         ...         ...   \n",
       "37195  102/1678739903/1678740959.434142.jpg         102  1678739903   \n",
       "16285  101/1678341667/1678342560.798175.jpg         101  1678341667   \n",
       "11118  101/1678333984/1678334644.186267.jpg         101  1678333984   \n",
       "74511  022/1672773342/1672773636.389223.jpg          22  1672773342   \n",
       "52501  103/1678835470/1678835755.283162.jpg         103  1678835470   \n",
       "\n",
       "      has_under_extrusion  \n",
       "117                     1  \n",
       "27824                   1  \n",
       "25771                   1  \n",
       "26666                   1  \n",
       "24899                   1  \n",
       "...                   ...  \n",
       "37195                   0  \n",
       "16285                   0  \n",
       "11118                   0  \n",
       "74511                   0  \n",
       "52501                   0  \n",
       "\n",
       "[51878 rows x 4 columns]"
      ]
     },
     "execution_count": 10,
     "metadata": {},
     "output_type": "execute_result"
    }
   ],
   "source": [
    "train_df"
   ]
  },
  {
   "cell_type": "code",
   "execution_count": 11,
   "id": "3588d5ba-c0e8-49d7-971f-6e870578b8c3",
   "metadata": {},
   "outputs": [
    {
     "name": "stdout",
     "output_type": "stream",
     "text": [
      "Found 51878 validated image filenames belonging to 2 classes.\n",
      "Found 12970 validated image filenames belonging to 2 classes.\n",
      "Found 16212 validated image filenames belonging to 2 classes.\n"
     ]
    }
   ],
   "source": [
    "data_dir = 'Image'\n",
    "IMG_SIZE = (224, 224)\n",
    "BATCH_SIZE = 32\n",
    "from tensorflow.keras.preprocessing.image import ImageDataGenerator\n",
    "\n",
    "train_generator = data_gen.flow_from_dataframe(\n",
    "    dataframe=train_df,\n",
    "    directory=data_dir,\n",
    "    x_col=\"img_path\",\n",
    "    y_col=\"has_under_extrusion\",\n",
    "    target_size=(224, 224),\n",
    "    batch_size=BATCH_SIZE,\n",
    "    class_mode='binary',\n",
    "    subset='training'\n",
    ")\n",
    "\n",
    "valid_generator = data_gen.flow_from_dataframe(\n",
    "    dataframe=val_df,\n",
    "    directory=data_dir,\n",
    "    x_col=\"img_path\",\n",
    "    y_col=\"has_under_extrusion\",\n",
    "    target_size=(224, 224),\n",
    "    batch_size=BATCH_SIZE,\n",
    "    class_mode='binary',\n",
    "    shuffle=False,\n",
    "    \n",
    ")\n",
    "test_generator = data_gen.flow_from_dataframe(\n",
    "    dataframe=test_df,\n",
    "    directory=data_dir,\n",
    "    x_col=\"img_path\",\n",
    "    y_col=\"has_under_extrusion\",\n",
    "    target_size=(224, 224),\n",
    "    batch_size=BATCH_SIZE,\n",
    "    class_mode='binary',\n",
    "    shuffle=False\n",
    ")\n",
    "\n",
    "\n",
    "\n",
    "\n"
   ]
  },
  {
   "cell_type": "code",
   "execution_count": 12,
   "id": "538e7228-05be-4467-8bb6-8cf889619f9e",
   "metadata": {},
   "outputs": [],
   "source": [
    "from tensorflow.keras.applications.vgg16 import VGG16\n",
    "from tensorflow.keras.layers import Dense, Dropout, Flatten\n",
    "from tensorflow.keras.models import Model\n",
    "\n",
    "\n",
    "# Load the pre-trained VGG-16 model\n",
    "vgg = VGG16(include_top=False, weights='imagenet', input_shape=(224, 224, 3))\n",
    "\n",
    "# Freeze the layers of the pre-trained model\n",
    "for layer in vgg.layers:\n",
    "    layer.trainable = False\n",
    "\n",
    "# Add a few layers on top of the pre-trained model for your specific task\n",
    "x = Flatten()(vgg.output)\n",
    "x = Dense(64, activation=\"relu\")(x)\n",
    "x = Dropout(0.5)(x)\n",
    "outputs = Dense(1, activation=\"sigmoid\")(x)\n",
    "\n",
    "# Create the final model\n",
    "model = Model(inputs=vgg.input, outputs=outputs)\n",
    "\n",
    "\n",
    "\n",
    "\n"
   ]
  },
  {
   "cell_type": "code",
   "execution_count": 15,
   "id": "0aabd1ba-485e-4065-b048-0fc9f7e17b85",
   "metadata": {},
   "outputs": [
    {
     "name": "stdout",
     "output_type": "stream",
     "text": [
      "Epoch 1/5\n"
     ]
    },
    {
     "name": "stderr",
     "output_type": "stream",
     "text": [
      "2023-04-12 19:33:45.096462: I tensorflow/core/common_runtime/executor.cc:1197] [/device:CPU:0] (DEBUG INFO) Executor start aborting (this does not indicate an error and you can ignore this message): INVALID_ARGUMENT: You must feed a value for placeholder tensor 'Placeholder/_0' with dtype int32\n",
      "\t [[{{node Placeholder/_0}}]]\n"
     ]
    },
    {
     "name": "stdout",
     "output_type": "stream",
     "text": [
      "1621/1621 [==============================] - 554s 341ms/step - loss: 0.1234 - accuracy: 0.9474 - val_loss: 0.0340 - val_accuracy: 0.9870\n",
      "Epoch 2/5\n",
      "1621/1621 [==============================] - 557s 343ms/step - loss: 0.1203 - accuracy: 0.9472 - val_loss: 0.0340 - val_accuracy: 0.9870\n",
      "Epoch 3/5\n",
      "1621/1621 [==============================] - 554s 342ms/step - loss: 0.1202 - accuracy: 0.9480 - val_loss: 0.0325 - val_accuracy: 0.9879\n",
      "Epoch 4/5\n",
      "1621/1621 [==============================] - 554s 341ms/step - loss: 0.1175 - accuracy: 0.9502 - val_loss: 0.0328 - val_accuracy: 0.9877\n",
      "Epoch 5/5\n",
      "1621/1621 [==============================] - 552s 341ms/step - loss: 0.1178 - accuracy: 0.9491 - val_loss: 0.0317 - val_accuracy: 0.9885\n"
     ]
    }
   ],
   "source": [
    "from tensorflow.keras.optimizers import Adam\n",
    "from tensorflow.keras.callbacks import ModelCheckpoint\n",
    "\n",
    "# Compile the model with binary cross-entropy loss and Adam optimizer\n",
    "model.compile(loss='binary_crossentropy', optimizer=Adam(learning_rate=0.00001), metrics=['accuracy'])\n",
    "\n",
    "# Define batch size and number of epochs\n",
    "batch_size = 32\n",
    "epochs = 5\n",
    "\n",
    "# Train the model and save after every epoch\n",
    "history = model.fit(train_generator, epochs=epochs, validation_data=valid_generator, steps_per_epoch=train_generator.samples//batch_size, validation_steps=valid_generator.samples//batch_size, callbacks=[ModelCheckpoint('model.h5', save_best_only=True)])\n",
    "\n",
    "# Evaluate the model on the test set\n"
   ]
  },
  {
   "cell_type": "code",
   "execution_count": 16,
   "id": "b26e164b-0d1a-4011-b597-f93d5a5f710b",
   "metadata": {},
   "outputs": [
    {
     "name": "stderr",
     "output_type": "stream",
     "text": [
      "2023-04-12 21:16:57.631115: I tensorflow/core/common_runtime/executor.cc:1197] [/device:CPU:0] (DEBUG INFO) Executor start aborting (this does not indicate an error and you can ignore this message): INVALID_ARGUMENT: You must feed a value for placeholder tensor 'Placeholder/_0' with dtype int32\n",
      "\t [[{{node Placeholder/_0}}]]\n"
     ]
    },
    {
     "name": "stdout",
     "output_type": "stream",
     "text": [
      "507/507 [==============================] - 138s 272ms/step - loss: 0.0296 - accuracy: 0.9898\n",
      "Test loss: 0.029585517942905426\n",
      "Test accuracy: 0.98976069688797\n"
     ]
    }
   ],
   "source": [
    "test_loss, test_acc = model.evaluate(test_generator)\n",
    "print(\"Test loss:\", test_loss)\n",
    "print(\"Test accuracy:\", test_acc)"
   ]
  },
  {
   "cell_type": "code",
   "execution_count": 17,
   "id": "da22eec4-d268-491b-94f7-35043a697ed1",
   "metadata": {},
   "outputs": [
    {
     "name": "stderr",
     "output_type": "stream",
     "text": [
      "2023-04-12 21:30:21.354231: I tensorflow/core/common_runtime/executor.cc:1197] [/device:CPU:0] (DEBUG INFO) Executor start aborting (this does not indicate an error and you can ignore this message): INVALID_ARGUMENT: You must feed a value for placeholder tensor 'Placeholder/_0' with dtype int32\n",
      "\t [[{{node Placeholder/_0}}]]\n"
     ]
    },
    {
     "name": "stdout",
     "output_type": "stream",
     "text": [
      "507/507 [==============================] - 139s 273ms/step\n",
      "Accuracy: 0.9897606711078214\n",
      "Precision: 0.9940949352714059\n",
      "Recall: 0.9871447902571042\n",
      "F1 score: 0.9906076722869752\n"
     ]
    }
   ],
   "source": [
    "from sklearn.metrics import accuracy_score, precision_score, recall_score, f1_score\n",
    "\n",
    "y_pred = model.predict(test_generator)\n",
    "y_pred = np.round(y_pred).astype(int)\n",
    "\n",
    "# Get the ground truth labels from the test generator\n",
    "y_true = test_generator.classes\n",
    "\n",
    "# Calculate evaluation metrics\n",
    "accuracy = accuracy_score(y_true, y_pred)\n",
    "precision = precision_score(y_true, y_pred)\n",
    "recall = recall_score(y_true, y_pred)\n",
    "f1 = f1_score(y_true, y_pred)\n",
    "\n",
    "# Print the evaluation metrics\n",
    "print('Accuracy:', accuracy)\n",
    "print('Precision:', precision)\n",
    "print('Recall:', recall)\n",
    "print('F1 score:', f1)"
   ]
  },
  {
   "cell_type": "code",
   "execution_count": 19,
   "id": "82075ac1-f9e3-413f-945c-de60c74a4ca8",
   "metadata": {},
   "outputs": [
    {
     "name": "stderr",
     "output_type": "stream",
     "text": [
      "2023-04-12 21:39:44.269374: I tensorflow/core/common_runtime/executor.cc:1197] [/device:CPU:0] (DEBUG INFO) Executor start aborting (this does not indicate an error and you can ignore this message): INVALID_ARGUMENT: You must feed a value for placeholder tensor 'Placeholder/_0' with dtype int32\n",
      "\t [[{{node Placeholder/_0}}]]\n"
     ]
    },
    {
     "name": "stdout",
     "output_type": "stream",
     "text": [
      "507/507 [==============================] - 139s 273ms/step\n"
     ]
    }
   ],
   "source": [
    "\n",
    "predictions = model.predict(test_generator)\n",
    "\n",
    "# Convert predictions to binary values (0 or 1)\n",
    "binary_predictions = np.round(predictions).flatten()\n",
    "\n",
    "\n",
    "\n",
    "\n"
   ]
  },
  {
   "cell_type": "code",
   "execution_count": 20,
   "id": "eb7f3849-8e11-4f03-9a5d-db9439e9955b",
   "metadata": {},
   "outputs": [
    {
     "name": "stdout",
     "output_type": "stream",
     "text": [
      "                    precision    recall  f1-score   support\n",
      "\n",
      "No Under Extrusion       0.98      0.99      0.99      7344\n",
      "   Under Extrusion       0.99      0.99      0.99      8868\n",
      "\n",
      "          accuracy                           0.99     16212\n",
      "         macro avg       0.99      0.99      0.99     16212\n",
      "      weighted avg       0.99      0.99      0.99     16212\n",
      "\n"
     ]
    }
   ],
   "source": [
    "from sklearn.metrics import classification_report\n",
    "class_names = [\"No Under Extrusion\", \"Under Extrusion\"]\n",
    "print(classification_report(test_generator.labels, binary_predictions, target_names=class_names))"
   ]
  },
  {
   "cell_type": "code",
   "execution_count": 21,
   "id": "760268de-f75b-4a07-9bbd-5c3ba58e1979",
   "metadata": {},
   "outputs": [
    {
     "name": "stdout",
     "output_type": "stream",
     "text": [
      "Found 25279 validated image filenames.\n"
     ]
    }
   ],
   "source": [
    "IMG_SIZE = (224, 224)\n",
    "BATCH_SIZE = 32\n",
    "test_df1=pd.read_csv(\"test.csv\")\n",
    "# create an instance of the ImageDataGenerator clas\n",
    "\n",
    "\n",
    "# specify the path to the top-level directory containing all the subdirectories\n",
    "data_dir = 'Image'\n",
    "\n",
    "test_generator1 = data_gen.flow_from_dataframe(\n",
    "    dataframe=test_df1,\n",
    "    directory=data_dir,\n",
    "    x_col=\"img_path\",\n",
    "    y_col=None,\n",
    "    target_size=(224, 224),\n",
    "    batch_size=BATCH_SIZE,\n",
    "    class_mode=None,\n",
    "    shuffle=False\n",
    ")\n",
    "\n"
   ]
  },
  {
   "cell_type": "code",
   "execution_count": 22,
   "id": "34e8c7ce-59a3-4449-bddb-2c592c35b321",
   "metadata": {},
   "outputs": [
    {
     "name": "stderr",
     "output_type": "stream",
     "text": [
      "2023-04-12 22:20:30.246673: I tensorflow/core/common_runtime/executor.cc:1197] [/device:CPU:0] (DEBUG INFO) Executor start aborting (this does not indicate an error and you can ignore this message): INVALID_ARGUMENT: You must feed a value for placeholder tensor 'Placeholder/_0' with dtype int32\n",
      "\t [[{{node Placeholder/_0}}]]\n"
     ]
    },
    {
     "name": "stdout",
     "output_type": "stream",
     "text": [
      "790/790 [==============================] - 239s 303ms/step\n"
     ]
    }
   ],
   "source": [
    "test_predictions = model.predict(test_generator1)\n",
    "binary_test_predictions = np.round(test_predictions).flatten()\n"
   ]
  },
  {
   "cell_type": "code",
   "execution_count": 23,
   "id": "364d6967-344a-4a20-b295-68768ca2371b",
   "metadata": {},
   "outputs": [],
   "source": [
    "submission_df = pd.DataFrame({'img_path': test_df1['img_path'], 'has_under_extrusion': binary_test_predictions})\n",
    "submission_df.to_csv('submission_best.csv', index=False)"
   ]
  },
  {
   "cell_type": "code",
   "execution_count": 24,
   "id": "cbf458a3-e029-463c-83e2-ed9abf351c77",
   "metadata": {},
   "outputs": [
    {
     "data": {
      "text/html": [
       "<div>\n",
       "<style scoped>\n",
       "    .dataframe tbody tr th:only-of-type {\n",
       "        vertical-align: middle;\n",
       "    }\n",
       "\n",
       "    .dataframe tbody tr th {\n",
       "        vertical-align: top;\n",
       "    }\n",
       "\n",
       "    .dataframe thead th {\n",
       "        text-align: right;\n",
       "    }\n",
       "</style>\n",
       "<table border=\"1\" class=\"dataframe\">\n",
       "  <thead>\n",
       "    <tr style=\"text-align: right;\">\n",
       "      <th></th>\n",
       "      <th>img_path</th>\n",
       "      <th>has_under_extrusion</th>\n",
       "    </tr>\n",
       "  </thead>\n",
       "  <tbody>\n",
       "    <tr>\n",
       "      <th>0</th>\n",
       "      <td>101/1678578332/1678578538.704966.jpg</td>\n",
       "      <td>1.0</td>\n",
       "    </tr>\n",
       "    <tr>\n",
       "      <th>1</th>\n",
       "      <td>101/1678578332/1678578539.108019.jpg</td>\n",
       "      <td>1.0</td>\n",
       "    </tr>\n",
       "    <tr>\n",
       "      <th>2</th>\n",
       "      <td>101/1678578332/1678578539.512872.jpg</td>\n",
       "      <td>1.0</td>\n",
       "    </tr>\n",
       "    <tr>\n",
       "      <th>3</th>\n",
       "      <td>101/1678578332/1678578539.916711.jpg</td>\n",
       "      <td>1.0</td>\n",
       "    </tr>\n",
       "    <tr>\n",
       "      <th>4</th>\n",
       "      <td>101/1678578332/1678578540.329089.jpg</td>\n",
       "      <td>1.0</td>\n",
       "    </tr>\n",
       "    <tr>\n",
       "      <th>...</th>\n",
       "      <td>...</td>\n",
       "      <td>...</td>\n",
       "    </tr>\n",
       "    <tr>\n",
       "      <th>25274</th>\n",
       "      <td>022/1672795514/1672796229.177132.jpg</td>\n",
       "      <td>1.0</td>\n",
       "    </tr>\n",
       "    <tr>\n",
       "      <th>25275</th>\n",
       "      <td>022/1672795514/1672796230.177629.jpg</td>\n",
       "      <td>1.0</td>\n",
       "    </tr>\n",
       "    <tr>\n",
       "      <th>25276</th>\n",
       "      <td>022/1672795514/1672796231.187994.jpg</td>\n",
       "      <td>1.0</td>\n",
       "    </tr>\n",
       "    <tr>\n",
       "      <th>25277</th>\n",
       "      <td>022/1672795514/1672796232.19111.jpg</td>\n",
       "      <td>1.0</td>\n",
       "    </tr>\n",
       "    <tr>\n",
       "      <th>25278</th>\n",
       "      <td>022/1672795514/1672796233.195907.jpg</td>\n",
       "      <td>1.0</td>\n",
       "    </tr>\n",
       "  </tbody>\n",
       "</table>\n",
       "<p>25279 rows × 2 columns</p>\n",
       "</div>"
      ],
      "text/plain": [
       "                                   img_path  has_under_extrusion\n",
       "0      101/1678578332/1678578538.704966.jpg                  1.0\n",
       "1      101/1678578332/1678578539.108019.jpg                  1.0\n",
       "2      101/1678578332/1678578539.512872.jpg                  1.0\n",
       "3      101/1678578332/1678578539.916711.jpg                  1.0\n",
       "4      101/1678578332/1678578540.329089.jpg                  1.0\n",
       "...                                     ...                  ...\n",
       "25274  022/1672795514/1672796229.177132.jpg                  1.0\n",
       "25275  022/1672795514/1672796230.177629.jpg                  1.0\n",
       "25276  022/1672795514/1672796231.187994.jpg                  1.0\n",
       "25277   022/1672795514/1672796232.19111.jpg                  1.0\n",
       "25278  022/1672795514/1672796233.195907.jpg                  1.0\n",
       "\n",
       "[25279 rows x 2 columns]"
      ]
     },
     "execution_count": 24,
     "metadata": {},
     "output_type": "execute_result"
    }
   ],
   "source": [
    "df1=pd.read_csv(\"submission_best.csv\")\n",
    "df1"
   ]
  },
  {
   "cell_type": "code",
   "execution_count": 25,
   "id": "7c007fc5-9371-47eb-b3ce-4c777e4cdd99",
   "metadata": {},
   "outputs": [],
   "source": [
    "df1['has_under_extrusion'] = df1['has_under_extrusion'].astype(int)"
   ]
  },
  {
   "cell_type": "code",
   "execution_count": 26,
   "id": "5d5d4d17-68ba-4ce0-b9ff-7529ef58cc44",
   "metadata": {},
   "outputs": [],
   "source": [
    "df1.to_csv('submission3.csv', index=False)"
   ]
  },
  {
   "cell_type": "code",
   "execution_count": null,
   "id": "96591b91-0c5d-46f5-b449-813b2807d053",
   "metadata": {},
   "outputs": [],
   "source": []
  }
 ],
 "metadata": {
  "kernelspec": {
   "display_name": "Python 3 (ipykernel)",
   "language": "python",
   "name": "python3"
  },
  "language_info": {
   "codemirror_mode": {
    "name": "ipython",
    "version": 3
   },
   "file_extension": ".py",
   "mimetype": "text/x-python",
   "name": "python",
   "nbconvert_exporter": "python",
   "pygments_lexer": "ipython3",
   "version": "3.9.7"
  }
 },
 "nbformat": 4,
 "nbformat_minor": 5
}
