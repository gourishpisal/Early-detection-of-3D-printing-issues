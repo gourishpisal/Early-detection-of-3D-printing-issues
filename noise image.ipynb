{
 "cells": [
  {
   "cell_type": "code",
   "execution_count": 4,
   "id": "1e07641a",
   "metadata": {},
   "outputs": [
    {
     "name": "stdout",
     "output_type": "stream",
     "text": [
      "The image has Gaussian noise.\n"
     ]
    }
   ],
   "source": [
    "import numpy as np\n",
    "import cv2\n",
    "\n",
    "def noise_type(img):\n",
    "    # Compute the mean and standard deviation of the pixel intensities\n",
    "    mean = np.mean(img)\n",
    "    std_dev = np.std(img)\n",
    "\n",
    "    # If the standard deviation is low, the image has impulse noise\n",
    "    if std_dev < 10:\n",
    "        return 'Impulse noise'\n",
    "\n",
    "    # Compute the range of pixel intensities\n",
    "    min_val = np.min(img)\n",
    "    max_val = np.max(img)\n",
    "    intensity_range = max_val - min_val\n",
    "\n",
    "    # If the mean is close to 0.5 and the range is low, the image has Gaussian noise\n",
    "    if abs(mean - 0.5) < 0.1 and intensity_range < 50:\n",
    "        return 'Gaussian noise'\n",
    "\n",
    "    # If the mean is close to 0.5 and the range is high, the image has salt and pepper noise\n",
    "    if abs(mean - 0.5) < 0.1 and intensity_range >= 50:\n",
    "        return 'Salt and pepper noise'\n",
    "\n",
    "    # If none of the above conditions are met, assume the image has Gaussian noise\n",
    "    return 'Gaussian noise'\n",
    "\n",
    "# Load an image\n",
    "img = cv2.imread('images/023/1674179039/1674179478.378866.jpg', cv2.IMREAD_GRAYSCALE)\n",
    "\n",
    "# Determine the type of noise in the image\n",
    "noise_type = noise_type(img)\n",
    "\n",
    "# Print the result\n",
    "print('The image has {}.'.format(noise_type))\n"
   ]
  },
  {
   "cell_type": "code",
   "execution_count": 9,
   "id": "7f2275a1",
   "metadata": {},
   "outputs": [
    {
     "name": "stdout",
     "output_type": "stream",
     "text": [
      "Found 106339 images belonging to 7 classes.\n",
      "The most common type of noise in the images is Impulse noise.\n"
     ]
    }
   ],
   "source": [
    "import numpy as np\n",
    "import cv2\n",
    "from collections import defaultdict\n",
    "from tensorflow.keras.preprocessing.image import ImageDataGenerator\n",
    "\n",
    "IMG_SIZE = (224, 224)\n",
    "BATCH_SIZE = 32\n",
    "\n",
    "def noise_type(img):\n",
    "    # Compute the mean and standard deviation of the pixel intensities\n",
    "    mean = np.mean(img)\n",
    "    std_dev = np.std(img)\n",
    "\n",
    "    # If the standard deviation is low, the image has impulse noise\n",
    "    if std_dev < 10:\n",
    "        return 'Impulse noise'\n",
    "\n",
    "    # Compute the range of pixel intensities\n",
    "    min_val = np.min(img)\n",
    "    max_val = np.max(img)\n",
    "    intensity_range = max_val - min_val\n",
    "\n",
    "    # If the mean is close to 0.5 and the range is low, the image has Gaussian noise\n",
    "    if abs(mean - 0.5) < 0.1 and intensity_range < 50:\n",
    "        return 'Gaussian noise'\n",
    "\n",
    "    # If the mean is close to 0.5 and the range is high, the image has salt and pepper noise\n",
    "    if abs(mean - 0.5) < 0.1 and intensity_range >= 50:\n",
    "        return 'Salt and pepper noise'\n",
    "\n",
    "    # If none of the above conditions are met, assume the image has Gaussian noise\n",
    "    return 'Gaussian noise'\n",
    "\n",
    "# create an instance of the ImageDataGenerator class\n",
    "data_gen = ImageDataGenerator(\n",
    "    preprocessing_function=lambda image: cv2.resize(cv2.cvtColor(image, cv2.COLOR_BGR2RGB), IMG_SIZE).astype(np.float32) / 255.0\n",
    ")\n",
    "\n",
    "# specify the path to the top-level directory containing all the subdirectories\n",
    "data_dir = 'images'\n",
    "\n",
    "# use the flow_from_directory function to generate batches of preprocessed images\n",
    "image_generator = data_gen.flow_from_directory(\n",
    "    data_dir,\n",
    "    target_size=IMG_SIZE,\n",
    "    batch_size=BATCH_SIZE,\n",
    "    class_mode='categorical'\n",
    ")\n",
    "\n",
    "# initialize a dictionary to store the count of each noise type\n",
    "noise_count = defaultdict(int)\n",
    "\n",
    "# loop over the batches of images\n",
    "for i, (batch_images, batch_labels) in enumerate(image_generator):\n",
    "    # loop over the images in the batch\n",
    "    for img in batch_images:\n",
    "        # Determine the type of noise in the image\n",
    "        noise_type_str = noise_type(img)\n",
    "        \n",
    "        # Increment the count of the corresponding noise type\n",
    "        noise_count[noise_type_str] += 1\n",
    "    \n",
    "    # check if we have processed all the batches\n",
    "    if i == len(image_generator) - 1:\n",
    "        break\n",
    "\n",
    "# Find the noise type with the highest count\n",
    "common_noise_type = max(noise_count, key=noise_count.get)\n",
    "\n",
    "# Print the result\n",
    "print('The most common type of noise in the images is {}.'.format(common_noise_type))\n"
   ]
  },
  {
   "cell_type": "code",
   "execution_count": null,
   "id": "cca778de",
   "metadata": {},
   "outputs": [],
   "source": []
  }
 ],
 "metadata": {
  "kernelspec": {
   "display_name": "Python 3 (ipykernel)",
   "language": "python",
   "name": "python3"
  },
  "language_info": {
   "codemirror_mode": {
    "name": "ipython",
    "version": 3
   },
   "file_extension": ".py",
   "mimetype": "text/x-python",
   "name": "python",
   "nbconvert_exporter": "python",
   "pygments_lexer": "ipython3",
   "version": "3.9.7"
  }
 },
 "nbformat": 4,
 "nbformat_minor": 5
}
